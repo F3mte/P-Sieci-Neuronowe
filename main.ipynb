{
 "cells": [
  {
   "cell_type": "markdown",
   "id": "541bf5a2-35d4-49af-a536-abd33cb0a518",
   "metadata": {},
   "source": [
    "# Sieci Neuronowe, PWR 2023\n",
    "## Klasyfikacja roślin na podstawie zdjęć za pomocą sieci neuronowych\n",
    "Autorzy:\n",
    "- Dominik Ćwikowski 248914\n",
    "- Paweł Pelar 243480  \n",
    "\n",
    "Repozytorium:  \n",
    "- https://github.com/F3mte/P-Sieci-Neuronowe\n",
    "\n",
    "Zbiór danych:  \n",
    "- https://www.kaggle.com/datasets/marquis03/plants-classification"
   ]
  },
  {
   "cell_type": "code",
   "execution_count": null,
   "id": "973f5cd7-bcff-4fa9-82d1-925eb4df2da1",
   "metadata": {},
   "outputs": [],
   "source": [
    "# Import bibliotek i funkcji\n",
    "import numpy as np\n",
    "import tensorflow as tf\n",
    "from tensorflow import keras\n",
    "from keras.preprocessing.image import ImageDataGenerator\n",
    "import matplotlib.pyplot as plt"
   ]
  },
  {
   "cell_type": "code",
   "execution_count": null,
   "id": "5a98a4e4-fa3b-4633-8e82-f0ea280180fb",
   "metadata": {},
   "outputs": [],
   "source": [
    "# Określ ścieżki do folderów z plikami \n",
    "test_dir = \"test\"\n",
    "train_dir = \"train\"\n",
    "val_dir = \"val\""
   ]
  },
  {
   "cell_type": "code",
   "execution_count": null,
   "id": "39ed11e6-6c4f-40d5-8c65-fc164c59b830",
   "metadata": {},
   "outputs": [],
   "source": [
    "# Generator dla danych treningowych\n",
    "train_datagen = ImageDataGenerator(rescale=1./255,\n",
    "                                   width_shift_range=0.2,\n",
    "                                   height_shift_range=0.2,\n",
    "                                   zoom_range=0.2,\n",
    "                                   horizontal_flip=True,\n",
    "                                   rotation_range=180,\n",
    "                                   fill_mode='reflect')\n",
    "train_generator = train_datagen.flow_from_directory(directory=train_dir,\n",
    "                                                    class_mode='categorical',\n",
    "                                                    target_size=(224, 224))"
   ]
  },
  {
   "cell_type": "code",
   "execution_count": null,
   "id": "ec2f2e9a-012b-4aac-8642-84941859aba3",
   "metadata": {},
   "outputs": [],
   "source": [
    "# Generator dla danych testowych\n",
    "test_datagen = ImageDataGenerator(rescale=1./255,)\n",
    "test_generator = test_datagen.flow_from_directory(directory=test_dir,\n",
    "                                                  class_mode='categorical',\n",
    "                                                  target_size=(224, 224))"
   ]
  },
  {
   "cell_type": "code",
   "execution_count": null,
   "id": "4f3b0652-772a-4810-8306-d3aced1a18ca",
   "metadata": {},
   "outputs": [],
   "source": [
    "# Generator dla danych walidacyjnych\n",
    "validation_datagen = ImageDataGenerator(rescale=1./255,)\n",
    "validation_generator = validation_datagen.flow_from_directory(directory=val_dir,\n",
    "                                                              class_mode = 'categorical',\n",
    "                                                              target_size=(224, 224))"
   ]
  },
  {
   "cell_type": "markdown",
   "id": "891ef55c-76de-43fe-83c1-b7077b342e68",
   "metadata": {},
   "source": [
    "# Proponowana architektura\n",
    "\n",
    "### Input 224x224x3  \n",
    "Conv2D 64, 3x3, relu  \n",
    "MaxPooling 2x2  \n",
    "\n",
    "Conv2D 64, 3x3, relu  \n",
    "MaxPooling 2x2  \n",
    "\n",
    "Conv2D 64, 3x3, relu  \n",
    "MaxPooling 2x2  \n",
    "\n",
    "Conv2D 64, 3x3, relu  \n",
    "MaxPooling 2x2  \n",
    "\n",
    "Flatten  \n",
    "Dropout (0.2 - 0.5)  \n",
    "\n",
    "Dense 4096, relu  \n",
    "Dropout (0.2 - 0.5) \n",
    "\n",
    "Dense 30, softmax  "
   ]
  },
  {
   "cell_type": "code",
   "execution_count": null,
   "id": "8b1cd744-4927-4c88-b531-77ba89905827",
   "metadata": {},
   "outputs": [],
   "source": [
    "x_train = []\n",
    "c = 0\n",
    "for feature, label in train_generator:\n",
    "    x_train.append(np.array(feature))\n",
    "    c += 1\n",
    "    if c == 1:\n",
    "        break\n",
    "\n",
    "x_train = np.array(x_train)\n",
    "print(x_train.shape)\n",
    "x_train = np.reshape(x_train, (32, 224, 224, 3))\n",
    "print(x_train.shape)\n",
    "\n",
    "fig, ax = plt.subplots(4, 4, figsize=(15, 15))\n",
    "for i in range(0, 16):\n",
    "    ax[int(i / 4), (i % 4)].imshow(x_train[i])"
   ]
  },
  {
   "cell_type": "code",
   "execution_count": null,
   "id": "dcb18fcf-6863-4997-a597-ab0873240b51",
   "metadata": {},
   "outputs": [],
   "source": []
  }
 ],
 "metadata": {
  "kernelspec": {
   "display_name": "Python 3 (ipykernel)",
   "language": "python",
   "name": "python3"
  },
  "language_info": {
   "codemirror_mode": {
    "name": "ipython",
    "version": 3
   },
   "file_extension": ".py",
   "mimetype": "text/x-python",
   "name": "python",
   "nbconvert_exporter": "python",
   "pygments_lexer": "ipython3",
   "version": "3.11.2"
  }
 },
 "nbformat": 4,
 "nbformat_minor": 5
}
